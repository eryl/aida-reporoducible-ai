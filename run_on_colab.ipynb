{
 "cells": [
  {
   "cell_type": "markdown",
   "metadata": {},
   "source": [
    "# Reproducible AI on Colab\n",
    "\n",
    "In this notebook we will essentially pretend that we're running a terminal. It's a bit cumbersome since we don't have a proper debugger but it's a simple way to get the scripts running without a local GPU or python installation.\n",
    "\n",
    "The first thing we do is clone the repository"
   ]
  },
  {
   "cell_type": "markdown",
   "metadata": {},
   "source": []
  }
 ],
 "metadata": {
  "language_info": {
   "name": "python"
  }
 },
 "nbformat": 4,
 "nbformat_minor": 2
}
