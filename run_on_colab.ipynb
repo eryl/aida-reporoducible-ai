{
  "cells": [
    {
      "cell_type": "markdown",
      "source": [
        "# ! Remember to set the runtime type to GPU !"
      ],
      "metadata": {
        "id": "UD-kpPhceZRA"
      }
    },
    {
      "cell_type": "markdown",
      "metadata": {
        "id": "fuuX9GrhY64D"
      },
      "source": [
        "# Reproducible AI on Colab\n",
        "\n",
        "In this notebook we will essentially pretend that we're running a terminal. It's a bit cumbersome since we don't have a proper debugger but it's a simple way to get the scripts running without a local GPU or python installation.\n",
        "\n",
        "The first thing we do is clone the repository"
      ]
    },
    {
      "cell_type": "code",
      "source": [
        "!git clone https://github.com/eryl/aida-reporoducible-ai.git"
      ],
      "metadata": {
        "id": "uIEVkhODY_-L",
        "outputId": "52e96639-9ef9-4847-f487-06dcc386642a",
        "colab": {
          "base_uri": "https://localhost:8080/"
        }
      },
      "execution_count": 1,
      "outputs": [
        {
          "output_type": "stream",
          "name": "stdout",
          "text": [
            "Cloning into 'aida-reporoducible-ai'...\n",
            "remote: Enumerating objects: 77, done.\u001b[K\n",
            "remote: Counting objects: 100% (77/77), done.\u001b[K\n",
            "remote: Compressing objects: 100% (43/43), done.\u001b[K\n",
            "remote: Total 77 (delta 38), reused 71 (delta 32), pack-reused 0 (from 0)\u001b[K\n",
            "Receiving objects: 100% (77/77), 24.35 KiB | 4.87 MiB/s, done.\n",
            "Resolving deltas: 100% (38/38), done.\n"
          ]
        }
      ]
    },
    {
      "cell_type": "code",
      "source": [
        "!pip install mlflow optuna > /dev/null"
      ],
      "metadata": {
        "id": "ScF6hECcd_jQ"
      },
      "execution_count": 2,
      "outputs": []
    },
    {
      "cell_type": "markdown",
      "source": [
        "# Create a terminal\n",
        "The commands below alow you to have a terminal to the colab VM which you can use to run the workshop. Follow the instructions at https://github.com/eryl/aida-reporoducible-ai"
      ],
      "metadata": {
        "id": "Sytyu4rOh7Up"
      }
    },
    {
      "cell_type": "code",
      "source": [
        "!apt install shellinabox &> /dev/null\n",
        "!nohup shellinaboxd --disable-ssl --no-beep --port=8000 --css /etc/shellinabox/options-enabled/00_White\\ On\\ Black.css -s \"/:root:root:/root:/bin/bash -c bash -i\" &> /dev/null &\n",
        "!yes | /usr/local/sbin/unminimize &> /dev/null"
      ],
      "metadata": {
        "id": "2zxZWhSlhuby"
      },
      "execution_count": 6,
      "outputs": []
    },
    {
      "cell_type": "code",
      "source": [
        "from google.colab.output import serve_kernel_port_as_iframe, serve_kernel_port_as_window\n",
        "serve_kernel_port_as_iframe(8000)"
      ],
      "metadata": {
        "id": "7zNQEOckhyhx",
        "outputId": "730c716d-d958-4ce5-c472-8d49534223fa",
        "colab": {
          "base_uri": "https://localhost:8080/",
          "height": 422
        }
      },
      "execution_count": 7,
      "outputs": [
        {
          "output_type": "display_data",
          "data": {
            "text/plain": [
              "<IPython.core.display.Javascript object>"
            ],
            "application/javascript": [
              "(async (port, path, width, height, cache, element) => {\n",
              "    if (!google.colab.kernel.accessAllowed && !cache) {\n",
              "      return;\n",
              "    }\n",
              "    element.appendChild(document.createTextNode(''));\n",
              "    const url = await google.colab.kernel.proxyPort(port, {cache});\n",
              "    const iframe = document.createElement('iframe');\n",
              "    iframe.src = new URL(path, url).toString();\n",
              "    iframe.height = height;\n",
              "    iframe.width = width;\n",
              "    iframe.style.border = 0;\n",
              "    iframe.allow = [\n",
              "        'accelerometer',\n",
              "        'autoplay',\n",
              "        'camera',\n",
              "        'clipboard-read',\n",
              "        'clipboard-write',\n",
              "        'gyroscope',\n",
              "        'magnetometer',\n",
              "        'microphone',\n",
              "        'serial',\n",
              "        'usb',\n",
              "        'xr-spatial-tracking',\n",
              "    ].join('; ');\n",
              "    element.appendChild(iframe);\n",
              "  })(8000, \"/\", \"100%\", \"400\", false, window.element)"
            ]
          },
          "metadata": {}
        }
      ]
    },
    {
      "cell_type": "markdown",
      "source": [
        "# MLFlow view"
      ],
      "metadata": {
        "id": "xotmyKcNjTWa"
      }
    },
    {
      "cell_type": "code",
      "source": [
        "# This is for viewing the MLFlow UI\n",
        "serve_kernel_port_as_iframe(5000, width='100%', height=1200)"
      ],
      "metadata": {
        "id": "qpsM4SVwiIcy",
        "outputId": "7a6c6768-ed85-4c20-d91c-2f47760e2a14",
        "colab": {
          "base_uri": "https://localhost:8080/",
          "height": 1000
        }
      },
      "execution_count": 17,
      "outputs": [
        {
          "output_type": "display_data",
          "data": {
            "text/plain": [
              "<IPython.core.display.Javascript object>"
            ],
            "application/javascript": [
              "(async (port, path, width, height, cache, element) => {\n",
              "    if (!google.colab.kernel.accessAllowed && !cache) {\n",
              "      return;\n",
              "    }\n",
              "    element.appendChild(document.createTextNode(''));\n",
              "    const url = await google.colab.kernel.proxyPort(port, {cache});\n",
              "    const iframe = document.createElement('iframe');\n",
              "    iframe.src = new URL(path, url).toString();\n",
              "    iframe.height = height;\n",
              "    iframe.width = width;\n",
              "    iframe.style.border = 0;\n",
              "    iframe.allow = [\n",
              "        'accelerometer',\n",
              "        'autoplay',\n",
              "        'camera',\n",
              "        'clipboard-read',\n",
              "        'clipboard-write',\n",
              "        'gyroscope',\n",
              "        'magnetometer',\n",
              "        'microphone',\n",
              "        'serial',\n",
              "        'usb',\n",
              "        'xr-spatial-tracking',\n",
              "    ].join('; ');\n",
              "    element.appendChild(iframe);\n",
              "  })(5000, \"/\", \"100%\", 1200, false, window.element)"
            ]
          },
          "metadata": {}
        }
      ]
    },
    {
      "cell_type": "code",
      "source": [],
      "metadata": {
        "id": "AS0JCOvtjXTX"
      },
      "execution_count": null,
      "outputs": []
    }
  ],
  "metadata": {
    "language_info": {
      "name": "python"
    },
    "colab": {
      "provenance": [],
      "gpuType": "T4"
    },
    "kernelspec": {
      "name": "python3",
      "display_name": "Python 3"
    },
    "accelerator": "GPU"
  },
  "nbformat": 4,
  "nbformat_minor": 0
}